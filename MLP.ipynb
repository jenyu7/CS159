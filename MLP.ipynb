{
 "cells": [
  {
   "cell_type": "code",
   "execution_count": 1,
   "metadata": {
    "scrolled": true
   },
   "outputs": [
    {
     "name": "stdout",
     "output_type": "stream",
     "text": [
      "           ID Malignant/Benign  mean radius  mean texture  mean perimeter  \\\n",
      "0      842302                M        17.99         10.38          122.80   \n",
      "1      842517                M        20.57         17.77          132.90   \n",
      "2    84300903                M        19.69         21.25          130.00   \n",
      "3    84348301                M        11.42         20.38           77.58   \n",
      "4    84358402                M        20.29         14.34          135.10   \n",
      "..        ...              ...          ...           ...             ...   \n",
      "564    926424                M        21.56         22.39          142.00   \n",
      "565    926682                M        20.13         28.25          131.20   \n",
      "566    926954                M        16.60         28.08          108.30   \n",
      "567    927241                M        20.60         29.33          140.10   \n",
      "568     92751                B         7.76         24.54           47.92   \n",
      "\n",
      "     mean area  mean smoothness  mean compactness  mean concavity  \\\n",
      "0       1001.0          0.11840           0.27760         0.30010   \n",
      "1       1326.0          0.08474           0.07864         0.08690   \n",
      "2       1203.0          0.10960           0.15990         0.19740   \n",
      "3        386.1          0.14250           0.28390         0.24140   \n",
      "4       1297.0          0.10030           0.13280         0.19800   \n",
      "..         ...              ...               ...             ...   \n",
      "564     1479.0          0.11100           0.11590         0.24390   \n",
      "565     1261.0          0.09780           0.10340         0.14400   \n",
      "566      858.1          0.08455           0.10230         0.09251   \n",
      "567     1265.0          0.11780           0.27700         0.35140   \n",
      "568      181.0          0.05263           0.04362         0.00000   \n",
      "\n",
      "     mean concave pts  ...  worst radius  worst texture  worst perimeter  \\\n",
      "0             0.14710  ...        25.380          17.33           184.60   \n",
      "1             0.07017  ...        24.990          23.41           158.80   \n",
      "2             0.12790  ...        23.570          25.53           152.50   \n",
      "3             0.10520  ...        14.910          26.50            98.87   \n",
      "4             0.10430  ...        22.540          16.67           152.20   \n",
      "..                ...  ...           ...            ...              ...   \n",
      "564           0.13890  ...        25.450          26.40           166.10   \n",
      "565           0.09791  ...        23.690          38.25           155.00   \n",
      "566           0.05302  ...        18.980          34.12           126.70   \n",
      "567           0.15200  ...        25.740          39.42           184.60   \n",
      "568           0.00000  ...         9.456          30.37            59.16   \n",
      "\n",
      "     worst area  worst smoothness  worst compactness  worst concavity  \\\n",
      "0        2019.0           0.16220            0.66560           0.7119   \n",
      "1        1956.0           0.12380            0.18660           0.2416   \n",
      "2        1709.0           0.14440            0.42450           0.4504   \n",
      "3         567.7           0.20980            0.86630           0.6869   \n",
      "4        1575.0           0.13740            0.20500           0.4000   \n",
      "..          ...               ...                ...              ...   \n",
      "564      2027.0           0.14100            0.21130           0.4107   \n",
      "565      1731.0           0.11660            0.19220           0.3215   \n",
      "566      1124.0           0.11390            0.30940           0.3403   \n",
      "567      1821.0           0.16500            0.86810           0.9387   \n",
      "568       268.6           0.08996            0.06444           0.0000   \n",
      "\n",
      "     worst concave pts  worst symmetry  worst frac. dim  \n",
      "0               0.2654          0.4601          0.11890  \n",
      "1               0.1860          0.2750          0.08902  \n",
      "2               0.2430          0.3613          0.08758  \n",
      "3               0.2575          0.6638          0.17300  \n",
      "4               0.1625          0.2364          0.07678  \n",
      "..                 ...             ...              ...  \n",
      "564             0.2216          0.2060          0.07115  \n",
      "565             0.1628          0.2572          0.06637  \n",
      "566             0.1418          0.2218          0.07820  \n",
      "567             0.2650          0.4087          0.12400  \n",
      "568             0.0000          0.2871          0.07039  \n",
      "\n",
      "[569 rows x 32 columns]\n"
     ]
    }
   ],
   "source": [
    "import pandas as pd\n",
    "\n",
    "\n",
    "data = pd.read_csv(\"data/wdbc.data\", sep=\",\", header=None)\n",
    "# denote features and improve readability\n",
    "features = [\"radius\", \"texture\", \"perimeter\", \"area\", \"smoothness\", \"compactness\", \"concavity\", \"concave pts\", \n",
    "            \"symmetry\", \"frac. dim\"]\n",
    "features3 = []\n",
    "descr = [\"mean\", \"stderr\", \"worst\"]\n",
    "for i in range(30):\n",
    "    if i < 10: \n",
    "        features3.append(descr[0] + \" \"+ features[i%10])\n",
    "    elif i < 20: \n",
    "        features3.append(descr[1] + \" \" + features[i%10])\n",
    "    else: \n",
    "        features3.append(descr[2] + \" \" + features[i%10])\n",
    "data.columns = [\"ID\", \"Malignant/Benign\"] + features3\n",
    "print(data)"
   ]
  },
  {
   "cell_type": "code",
   "execution_count": 22,
   "metadata": {},
   "outputs": [],
   "source": [
    "import numpy as np\n",
    "\n",
    "# define M as 1 and B as 0\n",
    "\n",
    "def sigmoid(x):\n",
    "    return 1.0/(1 + np.exp(-x))\n",
    "\n",
    "def sig_deriv(x):\n",
    "    return sigmoid(x) * (1 - sigmoid(x))\n",
    "\n",
    "def get_inputs(data, features, train_size):\n",
    "    x = data.loc[:,features]\n",
    "    classif = data[\"Malignant/Benign\"]\n",
    "    y = []\n",
    "    for index in classif:\n",
    "        if index == \"B\":\n",
    "            y.append(0)\n",
    "        else:\n",
    "            y.append(1)\n",
    "    x = np.asarray(x)\n",
    "    y = np.asarray(y)\n",
    "    split = int(train_size * len(x))\n",
    "    return x[:split], y[:split], x[split:], y[split:]\n",
    "\n",
    "def verify(x_test, y_test, hidden_dim, pre_hidden_nodes, input_to_hidden_w, post_hidden_nodes, hidden_to_out_w, threshold):\n",
    "    correct = 0\n",
    "    for index in range(x_test.shape[0]):\n",
    "        for node in range(hidden_dim):\n",
    "            pre_hidden_nodes[node] = np.dot(x_test[index], input_to_hidden_w[:, node])\n",
    "            post_hidden_nodes[node] = sigmoid(pre_hidden_nodes[node])\n",
    "        pre_output = np.dot(post_hidden_nodes, hidden_to_out_w)\n",
    "        output = sigmoid(pre_output)\n",
    "\n",
    "        if output > threshold:\n",
    "            output = 1\n",
    "        else:\n",
    "            output = 0\n",
    "        if output == y_test[index]:\n",
    "            correct += 1\n",
    "    return correct/x_test.shape[0]\n",
    "\n",
    "def train(n, rate): \n",
    "    x_train, y_train, x_test, y_test = get_inputs(data, ['mean radius', 'mean texture', 'mean smoothness', 'mean compactness',\n",
    "           'mean concavity'], 0.8)\n",
    "    N = len(x_train)    \n",
    "\n",
    "\n",
    "    input_dim = x_train.shape[1]\n",
    "    hidden_dim = 4\n",
    "    epochs = n\n",
    "    threshold = 0.5\n",
    "    learning_rate = rate\n",
    "\n",
    "    np.random.seed(159)\n",
    "    input_to_hidden_w = np.random.uniform(-1, 1, (input_dim, hidden_dim))\n",
    "    hidden_to_out_w = np.random.uniform(-1, 1, hidden_dim)\n",
    "    pre_hidden_nodes = np.zeros(hidden_dim)\n",
    "    post_hidden_nodes = np.zeros(hidden_dim)\n",
    "\n",
    "    for epoch in range(epochs):\n",
    "        for index in range(N):\n",
    "            for node in range(hidden_dim):\n",
    "                pre_hidden_nodes[node] = np.dot(x_train[index], input_to_hidden_w[:, node])\n",
    "                post_hidden_nodes[node] = sigmoid(pre_hidden_nodes[node])\n",
    "            pre_output = np.dot(post_hidden_nodes, hidden_to_out_w)\n",
    "            output = sigmoid(pre_output)\n",
    "\n",
    "            error = output - y_train[index]\n",
    "\n",
    "            for h in range(hidden_dim):\n",
    "                s = error * sig_deriv(pre_output)\n",
    "                grad_h_o = s * post_hidden_nodes[h]\n",
    "                for i in range(input_dim):\n",
    "                    grad_i_h = x_train[index, i] * s * hidden_to_out_w[h] * sig_deriv(pre_hidden_nodes[h])\n",
    "                    input_to_hidden_w[h] -= learning_rate * grad_i_h\n",
    "                hidden_to_out_w[h] -= learning_rate * grad_h_o\n",
    "\n",
    "    train_err = verify(x_train, y_train, hidden_dim, pre_hidden_nodes, input_to_hidden_w, post_hidden_nodes, hidden_to_out_w,\n",
    "                       threshold)\n",
    "    test_err = verify(x_test, y_test, hidden_dim, pre_hidden_nodes, input_to_hidden_w, post_hidden_nodes, hidden_to_out_w,\n",
    "                      threshold)\n",
    "    return [train_err, test_err]"
   ]
  },
  {
   "cell_type": "code",
   "execution_count": 23,
   "metadata": {},
   "outputs": [
    {
     "name": "stdout",
     "output_type": "stream",
     "text": [
      "Total epochs:  20\n",
      "0.6175824175824176 0.7807017543859649\n",
      "Total epochs:  40\n",
      "0.6461538461538462 0.7894736842105263\n",
      "Total epochs:  60\n",
      "0.6527472527472528 0.7982456140350878\n",
      "Total epochs:  80\n",
      "0.6527472527472528 0.7982456140350878\n",
      "Total epochs:  100\n",
      "0.654945054945055 0.8070175438596491\n",
      "Total epochs:  120\n",
      "0.6505494505494506 0.8070175438596491\n",
      "Total epochs:  140\n",
      "0.6373626373626373 0.7894736842105263\n",
      "Total epochs:  160\n",
      "0.5912087912087912 0.7719298245614035\n",
      "Total epochs:  180\n",
      "0.5912087912087912 0.7719298245614035\n",
      "Total epochs:  200\n",
      "0.5912087912087912 0.7719298245614035\n",
      "Total epochs:  220\n",
      "0.5912087912087912 0.7719298245614035\n",
      "Total epochs:  240\n",
      "0.5912087912087912 0.7719298245614035\n",
      "Total epochs:  260\n",
      "0.5912087912087912 0.7719298245614035\n",
      "Total epochs:  280\n",
      "0.5912087912087912 0.7719298245614035\n",
      "Total epochs:  300\n",
      "0.5912087912087912 0.7719298245614035\n",
      "Total epochs:  320\n",
      "0.5912087912087912 0.7719298245614035\n",
      "Total epochs:  340\n",
      "0.5912087912087912 0.7719298245614035\n",
      "Total epochs:  360\n",
      "0.5912087912087912 0.7719298245614035\n",
      "Total epochs:  380\n",
      "0.5912087912087912 0.7719298245614035\n",
      "Total epochs:  400\n",
      "0.5912087912087912 0.7719298245614035\n",
      "Total epochs:  420\n",
      "0.5912087912087912 0.7719298245614035\n",
      "Total epochs:  440\n",
      "0.5912087912087912 0.7719298245614035\n",
      "Total epochs:  460\n",
      "0.5912087912087912 0.7719298245614035\n",
      "Total epochs:  480\n",
      "0.5912087912087912 0.7719298245614035\n"
     ]
    }
   ],
   "source": [
    "train_err, test_err = [], []\n",
    "n_epochs = 500\n",
    "l_rate = 0.01\n",
    "for n in range(20, n_epochs, 20): \n",
    "    print(\"Total epochs: \", n)\n",
    "    err = train(n, l_rate)\n",
    "    train_err.append(err[0])\n",
    "    test_err.append(err[1])\n",
    "    print(err[0], err[1])\n",
    "    "
   ]
  },
  {
   "cell_type": "code",
   "execution_count": 25,
   "metadata": {},
   "outputs": [
    {
     "data": {
      "image/png": "[encoded data removed]",
      "text/plain": [
       "<Figure size 432x288 with 1 Axes>"
      ]
     },
     "metadata": {
      "needs_background": "light"
     },
     "output_type": "display_data"
    }
   ],
   "source": [
    "import matplotlib.pyplot as plt\n",
    "\n",
    "epochs = np.arange(20, n_epochs, 20)\n",
    "plt.figure()\n",
    "plt.plot(epochs, test_err, label='Testing score')\n",
    "plt.plot(epochs, train_err, label='Training score')\n",
    "plt.xlabel('Epochs')\n",
    "plt.ylabel('Classification score')\n",
    "plt.title('Score of MLP vs Number of Epochs')\n",
    "plt.legend(loc=0, shadow=True, fontsize='x-large')\n",
    "plt.show()"
   ]
  },
  {
   "cell_type": "code",
   "execution_count": 11,
   "metadata": {},
   "outputs": [
    {
     "name": "stdout",
     "output_type": "stream",
     "text": [
      "[ 50 100 150 200 250 300 350 400 450]\n"
     ]
    }
   ],
   "source": [
    "print(epochs)"
   ]
  },
  {
   "cell_type": "code",
   "execution_count": 28,
   "metadata": {},
   "outputs": [
    {
     "name": "stdout",
     "output_type": "stream",
     "text": [
      "0.5912087912087912\n",
      "0.7719298245614035\n"
     ]
    }
   ],
   "source": [
    "from sklearn.neural_network import MLPClassifier\n",
    "\n",
    "x_train, y_train, x_test, y_test = get_inputs(data, ['mean radius', 'mean texture', 'mean smoothness', 'mean compactness',\n",
    "       'mean concavity'], 0.8)\n",
    "mlp = MLPClassifier(hidden_layer_sizes=(4,), max_iter=30, alpha=1e-4,\n",
    "                    solver='sgd', random_state=1,\n",
    "                    learning_rate_init=.1)\n",
    "\n",
    "mlp.fit(x_train,y_train)\n",
    "print(mlp.score(x_train, y_train))\n",
    "print(mlp.score(x_test, y_test))"
   ]
  },
  {
   "cell_type": "code",
   "execution_count": null,
   "metadata": {},
   "outputs": [],
   "source": []
  }
 ],
 "metadata": {
  "kernelspec": {
   "display_name": "Python 3",
   "language": "python",
   "name": "python3"
  },
  "language_info": {
   "codemirror_mode": {
    "name": "ipython",
    "version": 3
   },
   "file_extension": ".py",
   "mimetype": "text/x-python",
   "name": "python",
   "nbconvert_exporter": "python",
   "pygments_lexer": "ipython3",
   "version": "3.7.4"
  }
 },
 "nbformat": 4,
 "nbformat_minor": 4
}
