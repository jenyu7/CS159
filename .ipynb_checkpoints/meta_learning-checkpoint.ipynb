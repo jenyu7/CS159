{
 "cells": [
  {
   "cell_type": "markdown",
   "metadata": {},
   "source": [
    "## Meta-Learning for Breast Cancer Prediction\n",
    "**By Timothy Yao, Jennifer Yu, and Cecelia Zhang**"
   ]
  },
  {
   "cell_type": "markdown",
   "metadata": {},
   "source": [
    "### Pre-processing of Wisconsin Datasets\n",
    "\n",
    "We retrieved our datasets from the [UCI Machine Learning Repository](https://archive.ics.uci.edu/ml/datasets/Breast+Cancer+Wisconsin+\\(Diagnostic\\)). There were a few dataset files included, with the following files: `breast-cancer-wisconsin.data`, `wdbc.data` and `wpbc.data`. We will be using the dataset labeled `wdbc.data` as the features are computed from a digitized image of the fine needle aspirate (FNA) of a breast mass. There are a total of 569 instances and 32 total attributes: \n",
    "  1. ID number\n",
    "  2. Diagnosis (M = malginant, B = benign)\n",
    "  3. (through 32) Ten real-valued features are computed for each cell nucleus:\n",
    "    * radius (mean of distances from center to points on the perimeter)\n",
    "\t* texture (standard deviation of gray-scale values)\n",
    "\t* perimeter\n",
    "\t* area\n",
    "\t* smoothness (local variation in radius lengths)\n",
    "\t* compactness (perimeter^2 / area - 1.0)\n",
    "\t* concavity (severity of concave portions of the contour)\n",
    "\t* concave points (number of concave portions of the contour)\n",
    "\t* symmetry \n",
    "\t* fractal dimension (\"coastline approximation\" - 1)\n",
    "    \n",
    "There are 32 total features because features 3-32 follow this schematic: \"The mean, standard error, and \"worst\" or largest (mean of the three largest values) of the ten features were computed for each image, resulting in 30 features.  For instance, field 3 is Mean Radius, field 13 is Radius SE, field 23 is Worst Radius.\"\n",
    "\n",
    "We do not use the `breast-cancer-wisconsin.data` dataset since it does not indicate that the information is obtained from a FNA. For `wpbc.data`, the dataset is evaluated to predict if a mass is recurrent or not. Our projects goal is to determine from a FNA if a breast mass is malignant or benign, so `wdbc.data` best serves our purposes.\n",
    "\n",
    "Below, we have the basic code parsing our given dataset. "
   ]
  },
  {
   "cell_type": "code",
   "execution_count": 4,
   "metadata": {},
   "outputs": [],
   "source": [
    "import pandas as pd\n",
    "\n",
    "\n",
    "data = pd.read_csv(\"data/wdbc.data\", sep=\",\", header=None)"
   ]
  },
  {
   "cell_type": "code",
   "execution_count": 10,
   "metadata": {},
   "outputs": [
    {
     "name": "stdout",
     "output_type": "stream",
     "text": [
      "           ID Malignant/Benign  mean radius  mean texture  mean perimeter  \\\n",
      "0      842302                M        17.99         10.38          122.80   \n",
      "1      842517                M        20.57         17.77          132.90   \n",
      "2    84300903                M        19.69         21.25          130.00   \n",
      "3    84348301                M        11.42         20.38           77.58   \n",
      "4    84358402                M        20.29         14.34          135.10   \n",
      "..        ...              ...          ...           ...             ...   \n",
      "564    926424                M        21.56         22.39          142.00   \n",
      "565    926682                M        20.13         28.25          131.20   \n",
      "566    926954                M        16.60         28.08          108.30   \n",
      "567    927241                M        20.60         29.33          140.10   \n",
      "568     92751                B         7.76         24.54           47.92   \n",
      "\n",
      "     mean area  mean smoothness  mean compactness  mean concavity  \\\n",
      "0       1001.0          0.11840           0.27760         0.30010   \n",
      "1       1326.0          0.08474           0.07864         0.08690   \n",
      "2       1203.0          0.10960           0.15990         0.19740   \n",
      "3        386.1          0.14250           0.28390         0.24140   \n",
      "4       1297.0          0.10030           0.13280         0.19800   \n",
      "..         ...              ...               ...             ...   \n",
      "564     1479.0          0.11100           0.11590         0.24390   \n",
      "565     1261.0          0.09780           0.10340         0.14400   \n",
      "566      858.1          0.08455           0.10230         0.09251   \n",
      "567     1265.0          0.11780           0.27700         0.35140   \n",
      "568      181.0          0.05263           0.04362         0.00000   \n",
      "\n",
      "     mean concave pts  ...  worst radius  worst texture  worst perimeter  \\\n",
      "0             0.14710  ...        25.380          17.33           184.60   \n",
      "1             0.07017  ...        24.990          23.41           158.80   \n",
      "2             0.12790  ...        23.570          25.53           152.50   \n",
      "3             0.10520  ...        14.910          26.50            98.87   \n",
      "4             0.10430  ...        22.540          16.67           152.20   \n",
      "..                ...  ...           ...            ...              ...   \n",
      "564           0.13890  ...        25.450          26.40           166.10   \n",
      "565           0.09791  ...        23.690          38.25           155.00   \n",
      "566           0.05302  ...        18.980          34.12           126.70   \n",
      "567           0.15200  ...        25.740          39.42           184.60   \n",
      "568           0.00000  ...         9.456          30.37            59.16   \n",
      "\n",
      "     worst area  worst smoothness  worst compactness  worst concavity  \\\n",
      "0        2019.0           0.16220            0.66560           0.7119   \n",
      "1        1956.0           0.12380            0.18660           0.2416   \n",
      "2        1709.0           0.14440            0.42450           0.4504   \n",
      "3         567.7           0.20980            0.86630           0.6869   \n",
      "4        1575.0           0.13740            0.20500           0.4000   \n",
      "..          ...               ...                ...              ...   \n",
      "564      2027.0           0.14100            0.21130           0.4107   \n",
      "565      1731.0           0.11660            0.19220           0.3215   \n",
      "566      1124.0           0.11390            0.30940           0.3403   \n",
      "567      1821.0           0.16500            0.86810           0.9387   \n",
      "568       268.6           0.08996            0.06444           0.0000   \n",
      "\n",
      "     worst concave pts  worst symmetry  worst frac. dim  \n",
      "0               0.2654          0.4601          0.11890  \n",
      "1               0.1860          0.2750          0.08902  \n",
      "2               0.2430          0.3613          0.08758  \n",
      "3               0.2575          0.6638          0.17300  \n",
      "4               0.1625          0.2364          0.07678  \n",
      "..                 ...             ...              ...  \n",
      "564             0.2216          0.2060          0.07115  \n",
      "565             0.1628          0.2572          0.06637  \n",
      "566             0.1418          0.2218          0.07820  \n",
      "567             0.2650          0.4087          0.12400  \n",
      "568             0.0000          0.2871          0.07039  \n",
      "\n",
      "[569 rows x 32 columns]\n"
     ]
    }
   ],
   "source": [
    "# denote features and improve readability\n",
    "features = [\"radius\", \"texture\", \"perimeter\", \"area\", \"smoothness\", \"compactness\", \"concavity\", \"concave pts\", \n",
    "            \"symmetry\", \"frac. dim\"]\n",
    "features3 = []\n",
    "descr = [\"mean\", \"stderr\", \"worst\"]\n",
    "for i in range(30):\n",
    "    if i < 10: \n",
    "        features3.append(descr[0] + \" \"+ features[i%10])\n",
    "    elif i < 20: \n",
    "        features3.append(descr[1] + \" \" + features[i%10])\n",
    "    else: \n",
    "        features3.append(descr[2] + \" \" + features[i%10])\n",
    "data.columns = [\"ID\", \"Malignant/Benign\"] + features3\n",
    "print(data)"
   ]
  },
  {
   "cell_type": "code",
   "execution_count": null,
   "metadata": {},
   "outputs": [],
   "source": []
  }
 ],
 "metadata": {
  "kernelspec": {
   "display_name": "Python 3",
   "language": "python",
   "name": "python3"
  },
  "language_info": {
   "codemirror_mode": {
    "name": "ipython",
    "version": 3
   },
   "file_extension": ".py",
   "mimetype": "text/x-python",
   "name": "python",
   "nbconvert_exporter": "python",
   "pygments_lexer": "ipython3",
   "version": "3.7.4"
  }
 },
 "nbformat": 4,
 "nbformat_minor": 2
}
