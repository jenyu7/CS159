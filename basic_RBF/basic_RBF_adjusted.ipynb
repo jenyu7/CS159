{
 "cells": [
  {
   "cell_type": "code",
   "execution_count": 8,
   "metadata": {},
   "outputs": [],
   "source": [
    "import numpy as np\n",
    "import pandas as pd\n",
    "\n",
    "\n",
    "data = pd.read_csv(\"../data/wdbc.data\", sep=\",\", header=None)"
   ]
  },
  {
   "cell_type": "code",
   "execution_count": 9,
   "metadata": {},
   "outputs": [],
   "source": [
    "# denote features and improve readability\n",
    "features = [\"radius\", \"texture\", \"perimeter\", \"area\", \"smoothness\", \"compactness\", \"concavity\", \"concave pts\", \n",
    "            \"symmetry\", \"frac. dim\"]\n",
    "features3 = []\n",
    "descr = [\"mean\", \"stderr\", \"worst\"]\n",
    "for i in range(30):\n",
    "    if i < 10: \n",
    "        features3.append(descr[0] + \" \"+ features[i%10])\n",
    "    elif i < 20: \n",
    "        features3.append(descr[1] + \" \" + features[i%10])\n",
    "    else: \n",
    "        features3.append(descr[2] + \" \" + features[i%10])\n",
    "data.columns = [\"ID\", \"Malignant/Benign\"] + features3\n",
    "\n",
    "data_list = data.values.tolist()\n",
    "data_y = []\n",
    "data_x = []\n",
    "for elem1 in data_list:\n",
    "    if elem1[1] == 'M':\n",
    "        data_y.append(1)\n",
    "    else:\n",
    "        data_y.append(0)\n",
    "for elem2 in data_list:\n",
    "    data_x.append(elem2[2:])\n",
    "\n",
    "train_data = np.array(data_x[0:469])\n",
    "train_data_labels = np.array(data_y[0:469])\n",
    "test_data = np.array(data_x[469:])\n",
    "test_data_labels = np.array(data_y[469:])"
   ]
  },
  {
   "cell_type": "code",
   "execution_count": 34,
   "metadata": {},
   "outputs": [],
   "source": [
    "def get_distance(x1, x2):\n",
    "    sum = 0\n",
    "    for i in range(len(x1)):\n",
    "        sum += (x1[i] - x2[i]) ** 2\n",
    "    return np.sqrt(sum)\n",
    "\n",
    "def kmeans(X, k, max_iters):\n",
    "    \n",
    "    centroids = X[np.random.choice(range(len(X)), k, replace=False)]\n",
    "    \n",
    "    converged = False\n",
    "    \n",
    "    current_iter = 0\n",
    "    while (not converged) and (current_iter < max_iters):\n",
    "        cluster_list = [[] for i in range(len(centroids))]\n",
    "        \n",
    "        for x in X:\n",
    "            distances_list = []\n",
    "            for c in centroids:\n",
    "                distances_list.append(get_distance(c, x))\n",
    "            cluster_list[int(np.argmin(distances_list))].append(x)\n",
    "            \n",
    "        cluster_list = list((filter(None, cluster_list)))\n",
    "        \n",
    "        prev_centroids = centroids.copy()\n",
    "        \n",
    "        centroids = []\n",
    "        \n",
    "        for j in range(len(cluster_list)):\n",
    "            centroids.append(np.mean(cluster_list[j], axis=0))\n",
    "            \n",
    "        pattern = np.abs(np.sum(prev_centroids) - np.sum(centroids))\n",
    "        \n",
    "        #print('K-MEANS: ', int(pattern))\n",
    "        \n",
    "        converged = (pattern == 0)\n",
    "        \n",
    "        current_iter += 1\n",
    "        \n",
    "    return np.array(centroids), [np.std(x) for x in cluster_list]\n",
    "\n",
    "class RBF:\n",
    "    \n",
    "    def __init__(self, X, y, tX, ty, num_of_classes, k, std_from_clusters=True):\n",
    "        self.X = X\n",
    "        self.y = y\n",
    "        \n",
    "        self.tX = tX\n",
    "        self.ty = ty\n",
    "        \n",
    "        self.number_of_classes = num_of_classes\n",
    "        self.k = k\n",
    "        self.std_from_clusters = std_from_clusters\n",
    "        \n",
    "    def convert_to_one_hot(self, x, num_of_classes):\n",
    "        arr = np.zeros((len(x), num_of_classes))\n",
    "        for i in range(len(x)):\n",
    "            c = int(x[i])\n",
    "            arr[i][c] = 1\n",
    "        return arr\n",
    "    \n",
    "    def rbf(self, x, c, s):\n",
    "        distance = get_distance(x, c)\n",
    "        return 1 / np.exp(-distance / s ** 2)\n",
    "    \n",
    "    def rbf_list(self, X, centroids, std_list):\n",
    "        RBF_list = []\n",
    "        for x in X:\n",
    "            RBF_list.append([self.rbf(x, c, s) for (c, s) in zip(centroids, std_list)])\n",
    "        return np.array(RBF_list)\n",
    "    \n",
    "    def fit(self):\n",
    "    \n",
    "        self.centroids, self.std_list = kmeans(self.X, self.k, max_iters = 1000)\n",
    "\n",
    "        if not self.std_from_clusters:\n",
    "            dMax = np.max([get_distance(c1, c2) for c1 in self.centroids for c2 in self.centroids])\n",
    "            self.std_list = np.repeat(dMax / np.sqrt(2 * self.k), self.k)\n",
    "\n",
    "        RBF_X = self.rbf_list(self.X, self.centroids, self.std_list)\n",
    "\n",
    "        self.w = np.matmul(np.matmul(np.linalg.pinv(np.matmul(RBF_X.T, RBF_X)), RBF_X.T), self.convert_to_one_hot(self.y, self.number_of_classes))\n",
    "                \n",
    "        RBF_list_tst = self.rbf_list(self.tX, self.centroids, self.std_list)\n",
    "        \n",
    "        self.pred_ty = np.matmul(RBF_list_tst, self.w)\n",
    "        \n",
    "        self.pred_ty = np.array([np.argmax(x) for x in self.pred_ty])\n",
    "        \n",
    "        diff = self.pred_ty - self.ty\n",
    "        \n",
    "        #print('Accuracy: ', len(np.where(diff == 0)[0]) / len(diff))\n",
    "        return len(np.where(diff == 0)[0]) / len(diff)\n",
    "    \n",
    "    def fit_train(self): \n",
    "        self.centroids, self.std_list = kmeans(self.X, self.k, max_iters = 1000)\n",
    "\n",
    "        if not self.std_from_clusters:\n",
    "            dMax = np.max([get_distance(c1, c2) for c1 in self.centroids for c2 in self.centroids])\n",
    "            self.std_list = np.repeat(dMax / np.sqrt(2 * self.k), self.k)\n",
    "\n",
    "        RBF_X = self.rbf_list(self.X, self.centroids, self.std_list)\n",
    "\n",
    "        self.w = np.matmul(np.matmul(np.linalg.pinv(np.matmul(RBF_X.T, RBF_X)), RBF_X.T), self.convert_to_one_hot(self.y, self.number_of_classes))\n",
    "                \n",
    "        RBF_list_tst = self.rbf_list(self.X, self.centroids, self.std_list)\n",
    "        \n",
    "        pred_y = np.matmul(RBF_list_tst, self.w)\n",
    "        \n",
    "        pred_y = np.array([np.argmax(x) for x in pred_y])\n",
    "        \n",
    "        diff = pred_y - self.y\n",
    "        \n",
    "        #print('Train Accuracy: ', len(np.where(diff == 0)[0]) / len(diff))\n",
    "        return len(np.where(diff == 0)[0]) / len(diff)"
   ]
  },
  {
   "cell_type": "code",
   "execution_count": 4,
   "metadata": {},
   "outputs": [
    {
     "name": "stdout",
     "output_type": "stream",
     "text": [
      "K-MEANS:  1464\n",
      "K-MEANS:  27\n",
      "K-MEANS:  297\n",
      "K-MEANS:  48\n",
      "K-MEANS:  97\n",
      "K-MEANS:  25\n",
      "K-MEANS:  22\n",
      "K-MEANS:  68\n",
      "K-MEANS:  7\n",
      "K-MEANS:  3\n",
      "K-MEANS:  4\n",
      "K-MEANS:  9\n",
      "K-MEANS:  12\n",
      "K-MEANS:  5\n",
      "K-MEANS:  12\n",
      "K-MEANS:  18\n",
      "K-MEANS:  11\n",
      "K-MEANS:  9\n",
      "K-MEANS:  6\n",
      "K-MEANS:  16\n",
      "K-MEANS:  14\n",
      "K-MEANS:  6\n",
      "K-MEANS:  7\n",
      "K-MEANS:  29\n",
      "K-MEANS:  17\n",
      "K-MEANS:  9\n",
      "K-MEANS:  21\n",
      "K-MEANS:  21\n",
      "K-MEANS:  14\n",
      "K-MEANS:  19\n",
      "K-MEANS:  3\n",
      "K-MEANS:  7\n",
      "K-MEANS:  0\n",
      "[0 0 0 0 0 0 0 0 0 0 1 0 0 0 0 0 0 0 1 0 1 0 0 1 0 0 0 0 0 1 1 0 1 0 1 0 0\n",
      " 0 0 0 1 0 0 1 0 1 0 1 1 0 0 0 1 0 0 0 0 0 0 0 0 0 0 0 1 0 1 1 0 0 0 0 0 0\n",
      " 0 0 0 0 0 0 0 0 0 0 0 0 0 0 0 0 0 0 0 1 1 1 1 1 1 0]\n",
      "Accuracy:  0.91\n"
     ]
    }
   ],
   "source": [
    "RBF_CLASSIFIER = RBF(train_data, train_data_labels, test_data, test_data_labels, num_of_classes = 2, k = 8,\n",
    "                     std_from_clusters=False)\n",
    "\n",
    "RBF_CLASSIFIER.fit()"
   ]
  },
  {
   "cell_type": "markdown",
   "metadata": {},
   "source": [
    "**Optimization** - vary k"
   ]
  },
  {
   "cell_type": "code",
   "execution_count": 16,
   "metadata": {},
   "outputs": [
    {
     "name": "stdout",
     "output_type": "stream",
     "text": [
      "k =  3\n",
      "Train Accuracy:  0.9040511727078892\n",
      "Accuracy:  0.94\n",
      "k =  4\n",
      "Train Accuracy:  0.8869936034115139\n",
      "Accuracy:  0.88\n",
      "k =  5\n",
      "Train Accuracy:  0.9019189765458422\n",
      "Accuracy:  0.93\n",
      "k =  6\n",
      "Train Accuracy:  0.9019189765458422\n",
      "Accuracy:  0.91\n",
      "k =  7\n",
      "Train Accuracy:  0.9040511727078892\n",
      "Accuracy:  0.91\n",
      "k =  8\n",
      "Train Accuracy:  0.8976545842217484\n",
      "Accuracy:  0.89\n",
      "k =  9\n",
      "Train Accuracy:  0.8976545842217484\n",
      "Accuracy:  0.89\n",
      "k =  10\n",
      "Train Accuracy:  0.906183368869936\n",
      "Accuracy:  0.89\n"
     ]
    }
   ],
   "source": [
    "train_data = np.array(data_x[0:469])\n",
    "train_data_labels = np.array(data_y[0:469])\n",
    "test_data = np.array(data_x[469:])\n",
    "test_data_labels = np.array(data_y[469:])\n",
    "\n",
    "train_acc = []\n",
    "test_acc = []\n",
    "for kv in range(3, 11): \n",
    "    rbfc = RBF(train_data, train_data_labels, test_data, test_data_labels, num_of_classes = 2, k = kv,\n",
    "                         std_from_clusters=False)\n",
    "    print(\"k = \", kv)\n",
    "    train_acc.append(rbfc.fit_train())\n",
    "    test_acc.append(rbfc.fit())"
   ]
  },
  {
   "cell_type": "code",
   "execution_count": 17,
   "metadata": {},
   "outputs": [
    {
     "data": {
      "image/png": "[encoded data removed]",
      "text/plain": [
       "<Figure size 432x288 with 1 Axes>"
      ]
     },
     "metadata": {
      "needs_background": "light"
     },
     "output_type": "display_data"
    }
   ],
   "source": [
    "import matplotlib.pyplot as plt\n",
    "\n",
    "kvals = np.arange(3, 11)\n",
    "plt.figure()\n",
    "plt.plot(kvals, test_acc, label='Testing score')\n",
    "plt.plot(kvals, train_acc, label='Training score')\n",
    "plt.xlabel('k-values')\n",
    "plt.ylabel('Classification score')\n",
    "plt.title('Score of RBF vs K-value')\n",
    "plt.legend(loc=0, shadow=True, fontsize='x-large')\n",
    "plt.show()"
   ]
  },
  {
   "cell_type": "markdown",
   "metadata": {},
   "source": [
    "**Optimization** - vary training/testing"
   ]
  },
  {
   "cell_type": "code",
   "execution_count": 24,
   "metadata": {},
   "outputs": [
    {
     "name": "stdout",
     "output_type": "stream",
     "text": [
      "training on  50.0 % of the data\n",
      "Train Accuracy:  0.8873239436619719\n",
      "Accuracy:  0.8842105263157894\n",
      "training on  60.0 % of the data\n",
      "Train Accuracy:  0.8856304985337243\n",
      "Accuracy:  0.9078947368421053\n",
      "training on  70.0 % of the data\n",
      "Train Accuracy:  0.8944723618090452\n",
      "Accuracy:  0.9298245614035088\n",
      "training on  80.0 % of the data\n",
      "Train Accuracy:  0.9010989010989011\n",
      "Accuracy:  0.9298245614035088\n",
      "training on  89.99999999999999 % of the data\n",
      "Train Accuracy:  0.90234375\n",
      "Accuracy:  0.9649122807017544\n"
     ]
    }
   ],
   "source": [
    "# vary partitions 50/50, 60/40, 70/30, 80/20, 90/10\n",
    "entries = len(data_x)\n",
    "train_acc1 = []\n",
    "test_acc1 = []\n",
    "for i in np.arange(0.5, 1.0, 0.1):\n",
    "    tr_n = int(i *entries)\n",
    "    trdata = np.array(data_x[0:tr_n])\n",
    "    trylabels = np.array(data_y[0:tr_n])\n",
    "    tedata = np.array(data_x[tr_n:])\n",
    "    teylabels = np.array(data_y[tr_n:])\n",
    "    rbfc = RBF(trdata, trylabels, tedata, teylabels, num_of_classes = 2, k = 5,\n",
    "                         std_from_clusters=False)\n",
    "    print(\"training on \", i*100, \"% of the data\")\n",
    "    train_acc1.append(rbfc.fit_train())\n",
    "    test_acc1.append(rbfc.fit())"
   ]
  },
  {
   "cell_type": "code",
   "execution_count": 25,
   "metadata": {},
   "outputs": [
    {
     "data": {
      "image/png": "[encoded data removed]",
      "text/plain": [
       "<Figure size 432x288 with 1 Axes>"
      ]
     },
     "metadata": {
      "needs_background": "light"
     },
     "output_type": "display_data"
    }
   ],
   "source": [
    "i = np.arange(0.5, 1.0, 0.1)\n",
    "plt.figure()\n",
    "plt.plot(i, test_acc1, label='Testing score')\n",
    "plt.plot(i, train_acc1, label='Training score')\n",
    "plt.xlabel('% of dataset for training')\n",
    "plt.ylabel('Classification score')\n",
    "plt.title('Score of RBF vs Training %')\n",
    "plt.legend(loc=0, shadow=True, fontsize='x-large')\n",
    "plt.show()"
   ]
  },
  {
   "cell_type": "code",
   "execution_count": 40,
   "metadata": {},
   "outputs": [
    {
     "name": "stdout",
     "output_type": "stream",
     "text": [
      "training on  2  folds\n",
      "Train:  0.9121695082777366\n",
      "Test:  0.8541882876204596\n",
      "training on  3  folds\n",
      "Train:  0.9077489237605888\n",
      "Test:  0.8858442402302051\n",
      "training on  4  folds\n",
      "Train:  0.9068715572121252\n",
      "Test:  0.8929749827637151\n",
      "training on  5  folds\n",
      "Train:  0.9094939271255061\n",
      "Test:  0.8963670237540755\n",
      "training on  6  folds\n",
      "Train:  0.908262639721667\n",
      "Test:  0.9016424038820455\n",
      "training on  7  folds\n",
      "Train:  0.909792184622191\n",
      "Test:  0.9036434808792532\n",
      "training on  8  folds\n",
      "Train:  0.9098728919702955\n",
      "Test:  0.9053697183098591\n",
      "training on  9  folds\n",
      "Train:  0.9092770146579876\n",
      "Test:  0.9071869488536155\n",
      "training on  10  folds\n",
      "Train:  0.9088084795321638\n",
      "Test:  0.9087406015037596\n",
      "training on  11  folds\n",
      "Train:  0.9093169886206636\n",
      "Test:  0.9087823940765118\n",
      "training on  12  folds\n",
      "Train:  0.9094156536574963\n",
      "Test:  0.9091312056737588\n",
      "training on  13  folds\n",
      "Train:  0.9093458126157746\n",
      "Test:  0.9088063099691007\n",
      "training on  14  folds\n",
      "Train:  0.9095599186572721\n",
      "Test:  0.9088414634146341\n",
      "training on  15  folds\n",
      "Train:  0.9089888091226183\n",
      "Test:  0.9069701280227597\n"
     ]
    }
   ],
   "source": [
    "from sklearn.model_selection import KFold\n",
    "X, Y = np.asarray(data_x), np.asarray(data_y)\n",
    "t1, t2 = [], []\n",
    "for folds in range(2, 16): \n",
    "    traine, teste = 0, 0\n",
    "    kf = KFold(n_splits=folds)\n",
    "    print(\"training on \", folds, \" folds\")\n",
    "    for train_index, test_index in kf.split(X):\n",
    "        X_train, X_test = X[train_index], X[test_index]\n",
    "        Y_train, Y_test = Y[train_index], Y[test_index]\n",
    "        rbfc = RBF(X_train, Y_train, X_test, Y_test, num_of_classes = 2, k = 5,\n",
    "                         std_from_clusters=False)\n",
    "        traine += rbfc.fit_train()\n",
    "        teste += rbfc.fit()\n",
    "    print(\"Train: \", traine/folds)\n",
    "    print(\"Test: \", teste/folds)\n",
    "    t1.append(traine/folds)\n",
    "    t2.append(teste/folds)"
   ]
  },
  {
   "cell_type": "code",
   "execution_count": 41,
   "metadata": {},
   "outputs": [
    {
     "data": {
      "image/png": "[encoded data removed]",
      "text/plain": [
       "<Figure size 432x288 with 1 Axes>"
      ]
     },
     "metadata": {
      "needs_background": "light"
     },
     "output_type": "display_data"
    }
   ],
   "source": [
    "j = np.arange(2, 16)\n",
    "plt.figure()\n",
    "plt.plot(j, t2, label='Testing score')\n",
    "plt.plot(j, t1, label='Training score')\n",
    "plt.xlabel('K-value for Cross Validation')\n",
    "plt.ylabel('Classification score')\n",
    "plt.title('Score of RBF vs K-value of Cross Validation')\n",
    "plt.legend(loc=0, shadow=True, fontsize='x-large')\n",
    "plt.show()"
   ]
  },
  {
   "cell_type": "code",
   "execution_count": null,
   "metadata": {},
   "outputs": [],
   "source": []
  }
 ],
 "metadata": {
  "kernelspec": {
   "display_name": "Python 3",
   "language": "python",
   "name": "python3"
  },
  "language_info": {
   "codemirror_mode": {
    "name": "ipython",
    "version": 3
   },
   "file_extension": ".py",
   "mimetype": "text/x-python",
   "name": "python",
   "nbconvert_exporter": "python",
   "pygments_lexer": "ipython3",
   "version": "3.7.4"
  }
 },
 "nbformat": 4,
 "nbformat_minor": 4
}
